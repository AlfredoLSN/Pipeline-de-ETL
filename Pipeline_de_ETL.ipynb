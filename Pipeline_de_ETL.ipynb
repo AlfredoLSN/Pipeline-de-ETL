{
  "nbformat": 4,
  "nbformat_minor": 0,
  "metadata": {
    "colab": {
      "provenance": [],
      "authorship_tag": "ABX9TyPk7VjGvHtR6Ps8MN/w5eMf",
      "include_colab_link": true
    },
    "kernelspec": {
      "name": "python3",
      "display_name": "Python 3"
    },
    "language_info": {
      "name": "python"
    }
  },
  "cells": [
    {
      "cell_type": "markdown",
      "metadata": {
        "id": "view-in-github",
        "colab_type": "text"
      },
      "source": [
        "<a href=\"https://colab.research.google.com/github/AlfredoLSN/Pipeline-de-ETL/blob/main/Pipeline_de_ETL.ipynb\" target=\"_parent\"><img src=\"https://colab.research.google.com/assets/colab-badge.svg\" alt=\"Open In Colab\"/></a>"
      ]
    },
    {
      "cell_type": "markdown",
      "source": [
        "# Extract"
      ],
      "metadata": {
        "id": "iyEdDLv5AJ9j"
      }
    },
    {
      "cell_type": "markdown",
      "source": [
        "Transformando tabela csv pessoas para DataFrame\n"
      ],
      "metadata": {
        "id": "YgJ2Ff86JNOP"
      }
    },
    {
      "cell_type": "code",
      "execution_count": 75,
      "metadata": {
        "colab": {
          "base_uri": "https://localhost:8080/",
          "height": 206
        },
        "id": "8WHqjjMj__Pb",
        "outputId": "fafac683-42c9-4eff-a6e7-5eea317401d5"
      },
      "outputs": [
        {
          "output_type": "execute_result",
          "data": {
            "text/plain": [
              "     nome  idade                 area_atuacao\n",
              "0     Ana     28  Desenvolvimento de Software\n",
              "1    João     32                    Marketing\n",
              "2   Maria     25               Design Gráfico\n",
              "3  Carlos     29             Engenharia Civil\n",
              "4   Sofia     26                     Medicina"
            ],
            "text/html": [
              "\n",
              "  <div id=\"df-0592034f-f878-47b4-9cda-91931f419408\" class=\"colab-df-container\">\n",
              "    <div>\n",
              "<style scoped>\n",
              "    .dataframe tbody tr th:only-of-type {\n",
              "        vertical-align: middle;\n",
              "    }\n",
              "\n",
              "    .dataframe tbody tr th {\n",
              "        vertical-align: top;\n",
              "    }\n",
              "\n",
              "    .dataframe thead th {\n",
              "        text-align: right;\n",
              "    }\n",
              "</style>\n",
              "<table border=\"1\" class=\"dataframe\">\n",
              "  <thead>\n",
              "    <tr style=\"text-align: right;\">\n",
              "      <th></th>\n",
              "      <th>nome</th>\n",
              "      <th>idade</th>\n",
              "      <th>area_atuacao</th>\n",
              "    </tr>\n",
              "  </thead>\n",
              "  <tbody>\n",
              "    <tr>\n",
              "      <th>0</th>\n",
              "      <td>Ana</td>\n",
              "      <td>28</td>\n",
              "      <td>Desenvolvimento de Software</td>\n",
              "    </tr>\n",
              "    <tr>\n",
              "      <th>1</th>\n",
              "      <td>João</td>\n",
              "      <td>32</td>\n",
              "      <td>Marketing</td>\n",
              "    </tr>\n",
              "    <tr>\n",
              "      <th>2</th>\n",
              "      <td>Maria</td>\n",
              "      <td>25</td>\n",
              "      <td>Design Gráfico</td>\n",
              "    </tr>\n",
              "    <tr>\n",
              "      <th>3</th>\n",
              "      <td>Carlos</td>\n",
              "      <td>29</td>\n",
              "      <td>Engenharia Civil</td>\n",
              "    </tr>\n",
              "    <tr>\n",
              "      <th>4</th>\n",
              "      <td>Sofia</td>\n",
              "      <td>26</td>\n",
              "      <td>Medicina</td>\n",
              "    </tr>\n",
              "  </tbody>\n",
              "</table>\n",
              "</div>\n",
              "    <div class=\"colab-df-buttons\">\n",
              "\n",
              "  <div class=\"colab-df-container\">\n",
              "    <button class=\"colab-df-convert\" onclick=\"convertToInteractive('df-0592034f-f878-47b4-9cda-91931f419408')\"\n",
              "            title=\"Convert this dataframe to an interactive table.\"\n",
              "            style=\"display:none;\">\n",
              "\n",
              "  <svg xmlns=\"http://www.w3.org/2000/svg\" height=\"24px\" viewBox=\"0 -960 960 960\">\n",
              "    <path d=\"M120-120v-720h720v720H120Zm60-500h600v-160H180v160Zm220 220h160v-160H400v160Zm0 220h160v-160H400v160ZM180-400h160v-160H180v160Zm440 0h160v-160H620v160ZM180-180h160v-160H180v160Zm440 0h160v-160H620v160Z\"/>\n",
              "  </svg>\n",
              "    </button>\n",
              "\n",
              "  <style>\n",
              "    .colab-df-container {\n",
              "      display:flex;\n",
              "      gap: 12px;\n",
              "    }\n",
              "\n",
              "    .colab-df-convert {\n",
              "      background-color: #E8F0FE;\n",
              "      border: none;\n",
              "      border-radius: 50%;\n",
              "      cursor: pointer;\n",
              "      display: none;\n",
              "      fill: #1967D2;\n",
              "      height: 32px;\n",
              "      padding: 0 0 0 0;\n",
              "      width: 32px;\n",
              "    }\n",
              "\n",
              "    .colab-df-convert:hover {\n",
              "      background-color: #E2EBFA;\n",
              "      box-shadow: 0px 1px 2px rgba(60, 64, 67, 0.3), 0px 1px 3px 1px rgba(60, 64, 67, 0.15);\n",
              "      fill: #174EA6;\n",
              "    }\n",
              "\n",
              "    .colab-df-buttons div {\n",
              "      margin-bottom: 4px;\n",
              "    }\n",
              "\n",
              "    [theme=dark] .colab-df-convert {\n",
              "      background-color: #3B4455;\n",
              "      fill: #D2E3FC;\n",
              "    }\n",
              "\n",
              "    [theme=dark] .colab-df-convert:hover {\n",
              "      background-color: #434B5C;\n",
              "      box-shadow: 0px 1px 3px 1px rgba(0, 0, 0, 0.15);\n",
              "      filter: drop-shadow(0px 1px 2px rgba(0, 0, 0, 0.3));\n",
              "      fill: #FFFFFF;\n",
              "    }\n",
              "  </style>\n",
              "\n",
              "    <script>\n",
              "      const buttonEl =\n",
              "        document.querySelector('#df-0592034f-f878-47b4-9cda-91931f419408 button.colab-df-convert');\n",
              "      buttonEl.style.display =\n",
              "        google.colab.kernel.accessAllowed ? 'block' : 'none';\n",
              "\n",
              "      async function convertToInteractive(key) {\n",
              "        const element = document.querySelector('#df-0592034f-f878-47b4-9cda-91931f419408');\n",
              "        const dataTable =\n",
              "          await google.colab.kernel.invokeFunction('convertToInteractive',\n",
              "                                                    [key], {});\n",
              "        if (!dataTable) return;\n",
              "\n",
              "        const docLinkHtml = 'Like what you see? Visit the ' +\n",
              "          '<a target=\"_blank\" href=https://colab.research.google.com/notebooks/data_table.ipynb>data table notebook</a>'\n",
              "          + ' to learn more about interactive tables.';\n",
              "        element.innerHTML = '';\n",
              "        dataTable['output_type'] = 'display_data';\n",
              "        await google.colab.output.renderOutput(dataTable, element);\n",
              "        const docLink = document.createElement('div');\n",
              "        docLink.innerHTML = docLinkHtml;\n",
              "        element.appendChild(docLink);\n",
              "      }\n",
              "    </script>\n",
              "  </div>\n",
              "\n",
              "\n",
              "<div id=\"df-07e47fc7-a40b-433e-80fe-53431fe63ec9\">\n",
              "  <button class=\"colab-df-quickchart\" onclick=\"quickchart('df-07e47fc7-a40b-433e-80fe-53431fe63ec9')\"\n",
              "            title=\"Suggest charts.\"\n",
              "            style=\"display:none;\">\n",
              "\n",
              "<svg xmlns=\"http://www.w3.org/2000/svg\" height=\"24px\"viewBox=\"0 0 24 24\"\n",
              "     width=\"24px\">\n",
              "    <g>\n",
              "        <path d=\"M19 3H5c-1.1 0-2 .9-2 2v14c0 1.1.9 2 2 2h14c1.1 0 2-.9 2-2V5c0-1.1-.9-2-2-2zM9 17H7v-7h2v7zm4 0h-2V7h2v10zm4 0h-2v-4h2v4z\"/>\n",
              "    </g>\n",
              "</svg>\n",
              "  </button>\n",
              "\n",
              "<style>\n",
              "  .colab-df-quickchart {\n",
              "    background-color: #E8F0FE;\n",
              "    border: none;\n",
              "    border-radius: 50%;\n",
              "    cursor: pointer;\n",
              "    display: none;\n",
              "    fill: #1967D2;\n",
              "    height: 32px;\n",
              "    padding: 0 0 0 0;\n",
              "    width: 32px;\n",
              "  }\n",
              "\n",
              "  .colab-df-quickchart:hover {\n",
              "    background-color: #E2EBFA;\n",
              "    box-shadow: 0px 1px 2px rgba(60, 64, 67, 0.3), 0px 1px 3px 1px rgba(60, 64, 67, 0.15);\n",
              "    fill: #174EA6;\n",
              "  }\n",
              "\n",
              "  [theme=dark] .colab-df-quickchart {\n",
              "    background-color: #3B4455;\n",
              "    fill: #D2E3FC;\n",
              "  }\n",
              "\n",
              "  [theme=dark] .colab-df-quickchart:hover {\n",
              "    background-color: #434B5C;\n",
              "    box-shadow: 0px 1px 3px 1px rgba(0, 0, 0, 0.15);\n",
              "    filter: drop-shadow(0px 1px 2px rgba(0, 0, 0, 0.3));\n",
              "    fill: #FFFFFF;\n",
              "  }\n",
              "</style>\n",
              "\n",
              "  <script>\n",
              "    async function quickchart(key) {\n",
              "      const charts = await google.colab.kernel.invokeFunction(\n",
              "          'suggestCharts', [key], {});\n",
              "    }\n",
              "    (() => {\n",
              "      let quickchartButtonEl =\n",
              "        document.querySelector('#df-07e47fc7-a40b-433e-80fe-53431fe63ec9 button');\n",
              "      quickchartButtonEl.style.display =\n",
              "        google.colab.kernel.accessAllowed ? 'block' : 'none';\n",
              "    })();\n",
              "  </script>\n",
              "</div>\n",
              "    </div>\n",
              "  </div>\n"
            ]
          },
          "metadata": {},
          "execution_count": 75
        }
      ],
      "source": [
        "import pandas as pd\n",
        "df = pd.read_csv(\"/content/pessoas.csv\")\n",
        "df.head()"
      ]
    },
    {
      "cell_type": "markdown",
      "source": [
        "Criando um dicionario que ira salvar os dados de cada pessoa, a chave de cada pessoa é seu index da tabela"
      ],
      "metadata": {
        "id": "rR9zzximJuFy"
      }
    },
    {
      "cell_type": "code",
      "source": [
        "pessoas = {}\n",
        "for rows in df.itertuples():\n",
        "  pessoas[rows.Index] = {\"nome\": rows.nome, \"idade\": rows.idade, \"area_atuacao\": rows.area_atuacao}\n",
        "print(pessoas)"
      ],
      "metadata": {
        "colab": {
          "base_uri": "https://localhost:8080/"
        },
        "id": "XD1w-h17JL9F",
        "outputId": "39887b43-3611-40a2-986b-37387e10f689"
      },
      "execution_count": 76,
      "outputs": [
        {
          "output_type": "stream",
          "name": "stdout",
          "text": [
            "{0: {'nome': 'Ana', 'idade': 28, 'area_atuacao': 'Desenvolvimento de Software'}, 1: {'nome': 'João', 'idade': 32, 'area_atuacao': 'Marketing'}, 2: {'nome': 'Maria', 'idade': 25, 'area_atuacao': 'Design Gráfico'}, 3: {'nome': 'Carlos', 'idade': 29, 'area_atuacao': 'Engenharia Civil'}, 4: {'nome': 'Sofia', 'idade': 26, 'area_atuacao': 'Medicina'}, 5: {'nome': 'Lucas', 'idade': 31, 'area_atuacao': 'Psicologia'}, 6: {'nome': 'Laura', 'idade': 27, 'area_atuacao': 'Arquitetura'}, 7: {'nome': 'Pedro', 'idade': 30, 'area_atuacao': 'Gastronomia'}, 8: {'nome': 'Mariana', 'idade': 24, 'area_atuacao': 'Economia'}, 9: {'nome': 'André', 'idade': 28, 'area_atuacao': 'Data Science'}}\n"
          ]
        }
      ]
    },
    {
      "cell_type": "markdown",
      "source": [
        "# Transform"
      ],
      "metadata": {
        "id": "w1xXNl6iMC-p"
      }
    },
    {
      "cell_type": "markdown",
      "source": [
        "Para cada pessoa ira ser adicionada um campo sugestao_filmes, onde tera 3 filmes relacionados a area de atuação"
      ],
      "metadata": {
        "id": "um323yqmdbVz"
      }
    },
    {
      "cell_type": "code",
      "source": [
        "sugestoes_filmes = {\n",
        "    \"Desenvolvimento de Software\": [\"The Social Network\", \"Hackers\", \"Jobs\"],\n",
        "    \"Marketing\": [\"Mad Men\", \"The Greatest Movie Ever Sold\", \"The Founder\"],\n",
        "    \"Design Gráfico\": [\"Helvetica\", \"Objectified\", \"Art & Copy\"],\n",
        "    \"Engenharia Civil\": [\"Bridge of Spies\", \"The Bridge on the River Kwai\", \"The Towering Inferno\"],\n",
        "    \"Medicina\": [\"Patch Adams\", \"Contagion\", \"Awakenings\"],\n",
        "    \"Psicologia\": [\"A Beautiful Mind\", \"Good Will Hunting\", \"Eternal Sunshine of the Spotless Mind\"],\n",
        "    \"Arquitetura\": [\"My Architect\", \"The Fountainhead\", \"Sketches of Frank Gehry\"],\n",
        "    \"Gastronomia\": [\"Julie & Julia\", \"Chef\", \"Ratatouille\"],\n",
        "    \"Economia\": [\"The Big Short\", \"Inside Job\", \"Margin Call\"],\n",
        "    \"Data Science\": [\"Moneyball\", \"Her\", \"Ex Machina\"]\n",
        "}\n"
      ],
      "metadata": {
        "id": "kVTWoajyM6cF"
      },
      "execution_count": 77,
      "outputs": []
    },
    {
      "cell_type": "code",
      "source": [
        "for chave in pessoas.keys():\n",
        "  sugestao = sugestoes_filmes[pessoas[chave][\"area_atuacao\"]]\n",
        "  pessoas[chave][\"sugestoes_filmes\"] = sugestao\n",
        "print(pessoas)"
      ],
      "metadata": {
        "colab": {
          "base_uri": "https://localhost:8080/"
        },
        "id": "odj0EeNudq8V",
        "outputId": "70ae8826-873c-4d66-a7e9-93d3afe195a3"
      },
      "execution_count": 78,
      "outputs": [
        {
          "output_type": "stream",
          "name": "stdout",
          "text": [
            "{0: {'nome': 'Ana', 'idade': 28, 'area_atuacao': 'Desenvolvimento de Software', 'sugestoes_filmes': ['The Social Network', 'Hackers', 'Jobs']}, 1: {'nome': 'João', 'idade': 32, 'area_atuacao': 'Marketing', 'sugestoes_filmes': ['Mad Men', 'The Greatest Movie Ever Sold', 'The Founder']}, 2: {'nome': 'Maria', 'idade': 25, 'area_atuacao': 'Design Gráfico', 'sugestoes_filmes': ['Helvetica', 'Objectified', 'Art & Copy']}, 3: {'nome': 'Carlos', 'idade': 29, 'area_atuacao': 'Engenharia Civil', 'sugestoes_filmes': ['Bridge of Spies', 'The Bridge on the River Kwai', 'The Towering Inferno']}, 4: {'nome': 'Sofia', 'idade': 26, 'area_atuacao': 'Medicina', 'sugestoes_filmes': ['Patch Adams', 'Contagion', 'Awakenings']}, 5: {'nome': 'Lucas', 'idade': 31, 'area_atuacao': 'Psicologia', 'sugestoes_filmes': ['A Beautiful Mind', 'Good Will Hunting', 'Eternal Sunshine of the Spotless Mind']}, 6: {'nome': 'Laura', 'idade': 27, 'area_atuacao': 'Arquitetura', 'sugestoes_filmes': ['My Architect', 'The Fountainhead', 'Sketches of Frank Gehry']}, 7: {'nome': 'Pedro', 'idade': 30, 'area_atuacao': 'Gastronomia', 'sugestoes_filmes': ['Julie & Julia', 'Chef', 'Ratatouille']}, 8: {'nome': 'Mariana', 'idade': 24, 'area_atuacao': 'Economia', 'sugestoes_filmes': ['The Big Short', 'Inside Job', 'Margin Call']}, 9: {'nome': 'André', 'idade': 28, 'area_atuacao': 'Data Science', 'sugestoes_filmes': ['Moneyball', 'Her', 'Ex Machina']}}\n"
          ]
        }
      ]
    },
    {
      "cell_type": "markdown",
      "source": [
        "# Load\n",
        "Os dados do dicionario serão salvos novamente em arquivo DataFrame"
      ],
      "metadata": {
        "id": "u30dhBCUfZ-j"
      }
    },
    {
      "cell_type": "code",
      "source": [
        "lista_sugestoes = [pessoas[chave][\"sugestoes_filmes\"] for chave in pessoas]\n",
        "lista_sugestoes"
      ],
      "metadata": {
        "colab": {
          "base_uri": "https://localhost:8080/"
        },
        "id": "EXVMRNqgfl3i",
        "outputId": "5c7ff936-a796-4956-e865-2407fe9b4b58"
      },
      "execution_count": 79,
      "outputs": [
        {
          "output_type": "execute_result",
          "data": {
            "text/plain": [
              "[['The Social Network', 'Hackers', 'Jobs'],\n",
              " ['Mad Men', 'The Greatest Movie Ever Sold', 'The Founder'],\n",
              " ['Helvetica', 'Objectified', 'Art & Copy'],\n",
              " ['Bridge of Spies', 'The Bridge on the River Kwai', 'The Towering Inferno'],\n",
              " ['Patch Adams', 'Contagion', 'Awakenings'],\n",
              " ['A Beautiful Mind',\n",
              "  'Good Will Hunting',\n",
              "  'Eternal Sunshine of the Spotless Mind'],\n",
              " ['My Architect', 'The Fountainhead', 'Sketches of Frank Gehry'],\n",
              " ['Julie & Julia', 'Chef', 'Ratatouille'],\n",
              " ['The Big Short', 'Inside Job', 'Margin Call'],\n",
              " ['Moneyball', 'Her', 'Ex Machina']]"
            ]
          },
          "metadata": {},
          "execution_count": 79
        }
      ]
    },
    {
      "cell_type": "code",
      "source": [
        "df[\"sugestoes_filmes\"] = lista_sugestoes\n",
        "df.head()"
      ],
      "metadata": {
        "colab": {
          "base_uri": "https://localhost:8080/",
          "height": 206
        },
        "id": "kBjcy-gmhmbk",
        "outputId": "fd4b570c-7e17-495b-cb7c-212b63fe8a48"
      },
      "execution_count": 87,
      "outputs": [
        {
          "output_type": "execute_result",
          "data": {
            "text/plain": [
              "     nome  idade                 area_atuacao  \\\n",
              "0     Ana     28  Desenvolvimento de Software   \n",
              "1    João     32                    Marketing   \n",
              "2   Maria     25               Design Gráfico   \n",
              "3  Carlos     29             Engenharia Civil   \n",
              "4   Sofia     26                     Medicina   \n",
              "\n",
              "                                    sugestoes_filmes  \n",
              "0                [The Social Network, Hackers, Jobs]  \n",
              "1  [Mad Men, The Greatest Movie Ever Sold, The Fo...  \n",
              "2               [Helvetica, Objectified, Art & Copy]  \n",
              "3  [Bridge of Spies, The Bridge on the River Kwai...  \n",
              "4               [Patch Adams, Contagion, Awakenings]  "
            ],
            "text/html": [
              "\n",
              "  <div id=\"df-cf733163-0262-428b-8e80-3b4834d01f9f\" class=\"colab-df-container\">\n",
              "    <div>\n",
              "<style scoped>\n",
              "    .dataframe tbody tr th:only-of-type {\n",
              "        vertical-align: middle;\n",
              "    }\n",
              "\n",
              "    .dataframe tbody tr th {\n",
              "        vertical-align: top;\n",
              "    }\n",
              "\n",
              "    .dataframe thead th {\n",
              "        text-align: right;\n",
              "    }\n",
              "</style>\n",
              "<table border=\"1\" class=\"dataframe\">\n",
              "  <thead>\n",
              "    <tr style=\"text-align: right;\">\n",
              "      <th></th>\n",
              "      <th>nome</th>\n",
              "      <th>idade</th>\n",
              "      <th>area_atuacao</th>\n",
              "      <th>sugestoes_filmes</th>\n",
              "    </tr>\n",
              "  </thead>\n",
              "  <tbody>\n",
              "    <tr>\n",
              "      <th>0</th>\n",
              "      <td>Ana</td>\n",
              "      <td>28</td>\n",
              "      <td>Desenvolvimento de Software</td>\n",
              "      <td>[The Social Network, Hackers, Jobs]</td>\n",
              "    </tr>\n",
              "    <tr>\n",
              "      <th>1</th>\n",
              "      <td>João</td>\n",
              "      <td>32</td>\n",
              "      <td>Marketing</td>\n",
              "      <td>[Mad Men, The Greatest Movie Ever Sold, The Fo...</td>\n",
              "    </tr>\n",
              "    <tr>\n",
              "      <th>2</th>\n",
              "      <td>Maria</td>\n",
              "      <td>25</td>\n",
              "      <td>Design Gráfico</td>\n",
              "      <td>[Helvetica, Objectified, Art &amp; Copy]</td>\n",
              "    </tr>\n",
              "    <tr>\n",
              "      <th>3</th>\n",
              "      <td>Carlos</td>\n",
              "      <td>29</td>\n",
              "      <td>Engenharia Civil</td>\n",
              "      <td>[Bridge of Spies, The Bridge on the River Kwai...</td>\n",
              "    </tr>\n",
              "    <tr>\n",
              "      <th>4</th>\n",
              "      <td>Sofia</td>\n",
              "      <td>26</td>\n",
              "      <td>Medicina</td>\n",
              "      <td>[Patch Adams, Contagion, Awakenings]</td>\n",
              "    </tr>\n",
              "  </tbody>\n",
              "</table>\n",
              "</div>\n",
              "    <div class=\"colab-df-buttons\">\n",
              "\n",
              "  <div class=\"colab-df-container\">\n",
              "    <button class=\"colab-df-convert\" onclick=\"convertToInteractive('df-cf733163-0262-428b-8e80-3b4834d01f9f')\"\n",
              "            title=\"Convert this dataframe to an interactive table.\"\n",
              "            style=\"display:none;\">\n",
              "\n",
              "  <svg xmlns=\"http://www.w3.org/2000/svg\" height=\"24px\" viewBox=\"0 -960 960 960\">\n",
              "    <path d=\"M120-120v-720h720v720H120Zm60-500h600v-160H180v160Zm220 220h160v-160H400v160Zm0 220h160v-160H400v160ZM180-400h160v-160H180v160Zm440 0h160v-160H620v160ZM180-180h160v-160H180v160Zm440 0h160v-160H620v160Z\"/>\n",
              "  </svg>\n",
              "    </button>\n",
              "\n",
              "  <style>\n",
              "    .colab-df-container {\n",
              "      display:flex;\n",
              "      gap: 12px;\n",
              "    }\n",
              "\n",
              "    .colab-df-convert {\n",
              "      background-color: #E8F0FE;\n",
              "      border: none;\n",
              "      border-radius: 50%;\n",
              "      cursor: pointer;\n",
              "      display: none;\n",
              "      fill: #1967D2;\n",
              "      height: 32px;\n",
              "      padding: 0 0 0 0;\n",
              "      width: 32px;\n",
              "    }\n",
              "\n",
              "    .colab-df-convert:hover {\n",
              "      background-color: #E2EBFA;\n",
              "      box-shadow: 0px 1px 2px rgba(60, 64, 67, 0.3), 0px 1px 3px 1px rgba(60, 64, 67, 0.15);\n",
              "      fill: #174EA6;\n",
              "    }\n",
              "\n",
              "    .colab-df-buttons div {\n",
              "      margin-bottom: 4px;\n",
              "    }\n",
              "\n",
              "    [theme=dark] .colab-df-convert {\n",
              "      background-color: #3B4455;\n",
              "      fill: #D2E3FC;\n",
              "    }\n",
              "\n",
              "    [theme=dark] .colab-df-convert:hover {\n",
              "      background-color: #434B5C;\n",
              "      box-shadow: 0px 1px 3px 1px rgba(0, 0, 0, 0.15);\n",
              "      filter: drop-shadow(0px 1px 2px rgba(0, 0, 0, 0.3));\n",
              "      fill: #FFFFFF;\n",
              "    }\n",
              "  </style>\n",
              "\n",
              "    <script>\n",
              "      const buttonEl =\n",
              "        document.querySelector('#df-cf733163-0262-428b-8e80-3b4834d01f9f button.colab-df-convert');\n",
              "      buttonEl.style.display =\n",
              "        google.colab.kernel.accessAllowed ? 'block' : 'none';\n",
              "\n",
              "      async function convertToInteractive(key) {\n",
              "        const element = document.querySelector('#df-cf733163-0262-428b-8e80-3b4834d01f9f');\n",
              "        const dataTable =\n",
              "          await google.colab.kernel.invokeFunction('convertToInteractive',\n",
              "                                                    [key], {});\n",
              "        if (!dataTable) return;\n",
              "\n",
              "        const docLinkHtml = 'Like what you see? Visit the ' +\n",
              "          '<a target=\"_blank\" href=https://colab.research.google.com/notebooks/data_table.ipynb>data table notebook</a>'\n",
              "          + ' to learn more about interactive tables.';\n",
              "        element.innerHTML = '';\n",
              "        dataTable['output_type'] = 'display_data';\n",
              "        await google.colab.output.renderOutput(dataTable, element);\n",
              "        const docLink = document.createElement('div');\n",
              "        docLink.innerHTML = docLinkHtml;\n",
              "        element.appendChild(docLink);\n",
              "      }\n",
              "    </script>\n",
              "  </div>\n",
              "\n",
              "\n",
              "<div id=\"df-8dfff044-a323-4904-8839-4937e7db078e\">\n",
              "  <button class=\"colab-df-quickchart\" onclick=\"quickchart('df-8dfff044-a323-4904-8839-4937e7db078e')\"\n",
              "            title=\"Suggest charts.\"\n",
              "            style=\"display:none;\">\n",
              "\n",
              "<svg xmlns=\"http://www.w3.org/2000/svg\" height=\"24px\"viewBox=\"0 0 24 24\"\n",
              "     width=\"24px\">\n",
              "    <g>\n",
              "        <path d=\"M19 3H5c-1.1 0-2 .9-2 2v14c0 1.1.9 2 2 2h14c1.1 0 2-.9 2-2V5c0-1.1-.9-2-2-2zM9 17H7v-7h2v7zm4 0h-2V7h2v10zm4 0h-2v-4h2v4z\"/>\n",
              "    </g>\n",
              "</svg>\n",
              "  </button>\n",
              "\n",
              "<style>\n",
              "  .colab-df-quickchart {\n",
              "    background-color: #E8F0FE;\n",
              "    border: none;\n",
              "    border-radius: 50%;\n",
              "    cursor: pointer;\n",
              "    display: none;\n",
              "    fill: #1967D2;\n",
              "    height: 32px;\n",
              "    padding: 0 0 0 0;\n",
              "    width: 32px;\n",
              "  }\n",
              "\n",
              "  .colab-df-quickchart:hover {\n",
              "    background-color: #E2EBFA;\n",
              "    box-shadow: 0px 1px 2px rgba(60, 64, 67, 0.3), 0px 1px 3px 1px rgba(60, 64, 67, 0.15);\n",
              "    fill: #174EA6;\n",
              "  }\n",
              "\n",
              "  [theme=dark] .colab-df-quickchart {\n",
              "    background-color: #3B4455;\n",
              "    fill: #D2E3FC;\n",
              "  }\n",
              "\n",
              "  [theme=dark] .colab-df-quickchart:hover {\n",
              "    background-color: #434B5C;\n",
              "    box-shadow: 0px 1px 3px 1px rgba(0, 0, 0, 0.15);\n",
              "    filter: drop-shadow(0px 1px 2px rgba(0, 0, 0, 0.3));\n",
              "    fill: #FFFFFF;\n",
              "  }\n",
              "</style>\n",
              "\n",
              "  <script>\n",
              "    async function quickchart(key) {\n",
              "      const charts = await google.colab.kernel.invokeFunction(\n",
              "          'suggestCharts', [key], {});\n",
              "    }\n",
              "    (() => {\n",
              "      let quickchartButtonEl =\n",
              "        document.querySelector('#df-8dfff044-a323-4904-8839-4937e7db078e button');\n",
              "      quickchartButtonEl.style.display =\n",
              "        google.colab.kernel.accessAllowed ? 'block' : 'none';\n",
              "    })();\n",
              "  </script>\n",
              "</div>\n",
              "    </div>\n",
              "  </div>\n"
            ]
          },
          "metadata": {},
          "execution_count": 87
        }
      ]
    }
  ]
}